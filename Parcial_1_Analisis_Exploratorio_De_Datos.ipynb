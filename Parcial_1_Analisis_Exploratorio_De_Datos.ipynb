{
  "nbformat": 4,
  "nbformat_minor": 0,
  "metadata": {
    "colab": {
      "provenance": []
    },
    "kernelspec": {
      "name": "python3",
      "display_name": "Python 3"
    },
    "language_info": {
      "name": "python"
    }
  },
  "cells": [
    {
      "cell_type": "code",
      "source": [
        "!git init\n",
        "!git config --global user.email 'ylgiraldoe@uqvirtual.edu.co'\n",
        "!git config --global user.name 'Yeicko10'\n",
        "from getpass import getpass\n",
        "password = getpass('1094923518Yeicko')\n",
        "!git clone https://github.com/Yeicko10/Aprendiendo-git-proyecto1/blob/main/Parcial_1_Analisis_Exploratorio_De_Datos.ipynb\n",
        "%cd Parcial_1_Analisis_Exploratorio_De_Datos.ipynb\n",
        "# create a file, then add it to stage\n",
        "!git commit -m 'Subimos base de datos desde drive'  # commit in Colab\n",
        "!git push origin master          # push to github'"
      ],
      "metadata": {
        "colab": {
          "base_uri": "https://localhost:8080/"
        },
        "id": "PdPO8lkej6Sa",
        "outputId": "0d2be0ef-d5d7-488c-9f08-e13a541c0202"
      },
      "execution_count": null,
      "outputs": [
        {
          "output_type": "stream",
          "name": "stdout",
          "text": [
            "Reinitialized existing Git repository in /content/.git/\n",
            "1094923518Yeicko··········\n",
            "Cloning into 'Parcial_1_Analisis_Exploratorio_De_Datos.ipynb'...\n",
            "fatal: repository 'https://github.com/Yeicko10/Aprendiendo-git-proyecto1/blob/main/Parcial_1_Analisis_Exploratorio_De_Datos.ipynb/' not found\n",
            "[Errno 2] No such file or directory: 'Parcial_1_Analisis_Exploratorio_De_Datos.ipynb'\n",
            "/content\n",
            "On branch master\n",
            "\n",
            "Initial commit\n",
            "\n",
            "Untracked files:\n",
            "\t\u001b[31m.config/\u001b[m\n",
            "\t\u001b[31mdrive/\u001b[m\n",
            "\t\u001b[31msample_data/\u001b[m\n",
            "\n",
            "nothing added to commit but untracked files present\n",
            "error: src refspec master does not match any.\n",
            "error: failed to push some refs to 'origin'\n"
          ]
        }
      ]
    },
    {
      "cell_type": "code",
      "source": [],
      "metadata": {
        "id": "0b_W6N-boTfG"
      },
      "execution_count": null,
      "outputs": []
    },
    {
      "cell_type": "code",
      "execution_count": null,
      "metadata": {
        "colab": {
          "base_uri": "https://localhost:8080/"
        },
        "id": "IcJ1r3mAaybu",
        "outputId": "ac295ded-e42a-48be-ebcc-1b5641e1b625"
      },
      "outputs": [
        {
          "output_type": "stream",
          "name": "stdout",
          "text": [
            "/content\n"
          ]
        }
      ],
      "source": [
        "dirBase = '/MyDrive/Datos_Tesis_Yeicko/'\n",
        "!pwd"
      ]
    },
    {
      "cell_type": "code",
      "source": [
        "import numpy as np\n",
        "import pandas as pd\n",
        "\n",
        "\n",
        "import matplotlib.pyplot as plt\n",
        "\n",
        "import scipy.ndimage\n",
        "from numpy import nan\n",
        "import time\n",
        "import sys\n",
        "import random\n",
        "\n",
        "import gc\n",
        "\n",
        "import shelve\n",
        "\n",
        "import os\n",
        "from shutil import copyfile\n"
      ],
      "metadata": {
        "id": "c0bdhHeDbHlm"
      },
      "execution_count": null,
      "outputs": []
    },
    {
      "cell_type": "code",
      "source": [
        "# Determinamos la plataforma\n",
        "if sys.platform == 'linux':\n",
        "    print(\"Entorno Linux - Google Colab\")\n",
        "    \n",
        "    # Utilizacion de TPU (Referencia: https://colab.research.google.com/notebooks/tpu.ipynb)\n",
        "    \n",
        "    # Determinamos si tenemos disponible en el entorno una GPU, una TPU o bien solo CPU\n",
        "    try:\n",
        "        tpu = tf.distribute.cluster_resolver.TPUClusterResolver()  # TPU detection\n",
        "        print('Running on TPU ', tpu.cluster_spec().as_dict()['worker'])\n",
        "        entorno = 'TPU'\n",
        "    except ValueError:\n",
        "\n",
        "        #if tf.test.is_gpu_available():\n",
        "        if len(tf.config.list_physical_devices('GPU')) > 0:\n",
        "            entorno = 'GPU'\n",
        "        else:\n",
        "            entorno = 'CPU'\n",
        "        \n",
        "    if entorno == 'TPU':\n",
        "        # Configuración para uso de TPU\n",
        "        tf.config.experimental_connect_to_cluster(tpu)\n",
        "        tf.tpu.experimental.initialize_tpu_system(tpu)\n",
        "        tpu_strategy = tf.distribute.experimental.TPUStrategy(tpu)\n",
        "\n",
        "    prefijo = '/content/drive'\n",
        "else:\n",
        "    print(\"Entorno Windows - Anaconda\")\n",
        "    prefijo = 'C:/Users/jandro/DriveFormacion'\n",
        "    entorno = 'CPU'\n",
        "\n",
        "dirData = prefijo + dirBase + \"DATASET/\"\n",
        "dirResultados = prefijo + dirBase + \"RESULTS/\"\n",
        "\n",
        "print(\"Ejecutando en entorno:\",entorno)"
      ],
      "metadata": {
        "colab": {
          "base_uri": "https://localhost:8080/"
        },
        "id": "ghv98RHobUgv",
        "outputId": "f90d9de8-3bc8-463e-a526-eb4970ee8291"
      },
      "execution_count": null,
      "outputs": [
        {
          "output_type": "stream",
          "name": "stdout",
          "text": [
            "Entorno Linux - Google Colab\n",
            "Ejecutando en entorno: CPU\n"
          ]
        }
      ]
    },
    {
      "cell_type": "code",
      "source": [
        "# Recuperamos conjunto de datos\n",
        "if sys.platform == 'linux':\n",
        "\n",
        "    # Estamos en Google Colab\n",
        "    from google.colab import drive\n",
        "    drive.mount('/content/drive')\n",
        "    ##modo + '_preprocessed_test.csv')\n",
        "    dfK2 = pd.read_csv(dirData + 'exoplanets.csv')\n",
        "     \n",
        "else:\n",
        "    dfK2 = pd.read_csv(dirData + 'exoplanets.csv')"
      ],
      "metadata": {
        "colab": {
          "base_uri": "https://localhost:8080/"
        },
        "id": "ld6RqtBZbbNo",
        "outputId": "8325b495-80ea-4d8b-f9df-539202313622"
      },
      "execution_count": null,
      "outputs": [
        {
          "output_type": "stream",
          "name": "stdout",
          "text": [
            "Drive already mounted at /content/drive; to attempt to forcibly remount, call drive.mount(\"/content/drive\", force_remount=True).\n"
          ]
        },
        {
          "output_type": "stream",
          "name": "stderr",
          "text": [
            "/usr/local/lib/python3.7/dist-packages/IPython/core/interactiveshell.py:3326: DtypeWarning: Columns (4,5,10,11,17,18,23,24,26,27,30,33,38,39,44,45,50,51,56,57,62,63,70,71,73,74,79,80,81,82,88,89,95,96,105,106,109,110,115,116,117,124,125,130,131,137,143,144,149,150,159,160,161,162,172,173,174,179,180,182,188,189,195,196,201,202,205,206,211,212,217,218,223,224,229,230,235,236,241,242,247,248,253,254,259,260,265,266,268,269,270,271,273,278,279,284,285,290,291,294,295,301,302,304,305,310,311) have mixed types.Specify dtype option on import or set low_memory=False.\n",
            "  exec(code_obj, self.user_global_ns, self.user_ns)\n"
          ]
        }
      ]
    },
    {
      "cell_type": "code",
      "source": [
        "dfK2.head()"
      ],
      "metadata": {
        "colab": {
          "base_uri": "https://localhost:8080/",
          "height": 369
        },
        "id": "1cDNNMKbblie",
        "outputId": "569b4ff5-42d2-431b-d70f-8a4750ce42af"
      },
      "execution_count": null,
      "outputs": [
        {
          "output_type": "execute_result",
          "data": {
            "text/plain": [
              "          A    AUPPER    ALOWER        UA        AREF  \\\n",
              "0  0.078010  0.001300  0.001300  0.001300  Calculated   \n",
              "1  0.034472  0.000676  0.000676  0.000676  Calculated   \n",
              "2  0.137610  0.002897  0.002897  0.002897  Calculated   \n",
              "3  0.091351  0.001903  0.001903  0.001903  Calculated   \n",
              "4  0.185149  0.008817  0.008817  0.008817  Calculated   \n",
              "\n",
              "                                                AURL       AR    ARUPPER  \\\n",
              "0  http://adsabs.harvard.edu/abs/2006ApJ...646..505B  11.9153   0.443805   \n",
              "1  http://adsabs.harvard.edu/abs/2006ApJ...646..505B  15.1619   0.974724   \n",
              "2  http://adsabs.harvard.edu/abs/2006ApJ...646..505B  31.8896   3.494090   \n",
              "3  http://adsabs.harvard.edu/abs/2006ApJ...646..505B  14.5835   2.181770   \n",
              "4  http://adsabs.harvard.edu/abs/2006ApJ...646..505B  33.2523  10.100600   \n",
              "\n",
              "     ARLOWER        UAR  ... VREF VURL  VSINI  VSINIUPPER  VSINILOWER  UVSINI  \\\n",
              "0   0.443805   0.443805  ...  NaN  NaN    NaN         NaN         NaN     NaN   \n",
              "1   0.974724   0.974724  ...  NaN  NaN    NaN         NaN         NaN     NaN   \n",
              "2   3.494090   3.494090  ...  NaN  NaN    NaN         NaN         NaN     NaN   \n",
              "3   2.181770   2.181770  ...  NaN  NaN    3.0         1.0         1.0     1.0   \n",
              "4  10.100600  10.100600  ...  NaN  NaN    NaN         NaN         NaN     NaN   \n",
              "\n",
              "       VSINIREF                                           VSINIURL KEPID  KDE  \n",
              "0           NaN                                                NaN   NaN    1  \n",
              "1   Morton 2016  http://adsabs.harvard.edu/abs/2016ApJ...822...86M   NaN    1  \n",
              "2   Morton 2016  http://adsabs.harvard.edu/abs/2016ApJ...822...86M   NaN    1  \n",
              "3  Hebrard 2014  http://adsabs.harvard.edu/abs/2014A%26A...572A...   NaN    1  \n",
              "4   Morton 2016  http://adsabs.harvard.edu/abs/2016ApJ...822...86M   NaN    1  \n",
              "\n",
              "[5 rows x 314 columns]"
            ],
            "text/html": [
              "\n",
              "  <div id=\"df-f8a80ab4-9f21-4517-8c43-21cfba88670d\">\n",
              "    <div class=\"colab-df-container\">\n",
              "      <div>\n",
              "<style scoped>\n",
              "    .dataframe tbody tr th:only-of-type {\n",
              "        vertical-align: middle;\n",
              "    }\n",
              "\n",
              "    .dataframe tbody tr th {\n",
              "        vertical-align: top;\n",
              "    }\n",
              "\n",
              "    .dataframe thead th {\n",
              "        text-align: right;\n",
              "    }\n",
              "</style>\n",
              "<table border=\"1\" class=\"dataframe\">\n",
              "  <thead>\n",
              "    <tr style=\"text-align: right;\">\n",
              "      <th></th>\n",
              "      <th>A</th>\n",
              "      <th>AUPPER</th>\n",
              "      <th>ALOWER</th>\n",
              "      <th>UA</th>\n",
              "      <th>AREF</th>\n",
              "      <th>AURL</th>\n",
              "      <th>AR</th>\n",
              "      <th>ARUPPER</th>\n",
              "      <th>ARLOWER</th>\n",
              "      <th>UAR</th>\n",
              "      <th>...</th>\n",
              "      <th>VREF</th>\n",
              "      <th>VURL</th>\n",
              "      <th>VSINI</th>\n",
              "      <th>VSINIUPPER</th>\n",
              "      <th>VSINILOWER</th>\n",
              "      <th>UVSINI</th>\n",
              "      <th>VSINIREF</th>\n",
              "      <th>VSINIURL</th>\n",
              "      <th>KEPID</th>\n",
              "      <th>KDE</th>\n",
              "    </tr>\n",
              "  </thead>\n",
              "  <tbody>\n",
              "    <tr>\n",
              "      <th>0</th>\n",
              "      <td>0.078010</td>\n",
              "      <td>0.001300</td>\n",
              "      <td>0.001300</td>\n",
              "      <td>0.001300</td>\n",
              "      <td>Calculated</td>\n",
              "      <td>http://adsabs.harvard.edu/abs/2006ApJ...646..505B</td>\n",
              "      <td>11.9153</td>\n",
              "      <td>0.443805</td>\n",
              "      <td>0.443805</td>\n",
              "      <td>0.443805</td>\n",
              "      <td>...</td>\n",
              "      <td>NaN</td>\n",
              "      <td>NaN</td>\n",
              "      <td>NaN</td>\n",
              "      <td>NaN</td>\n",
              "      <td>NaN</td>\n",
              "      <td>NaN</td>\n",
              "      <td>NaN</td>\n",
              "      <td>NaN</td>\n",
              "      <td>NaN</td>\n",
              "      <td>1</td>\n",
              "    </tr>\n",
              "    <tr>\n",
              "      <th>1</th>\n",
              "      <td>0.034472</td>\n",
              "      <td>0.000676</td>\n",
              "      <td>0.000676</td>\n",
              "      <td>0.000676</td>\n",
              "      <td>Calculated</td>\n",
              "      <td>http://adsabs.harvard.edu/abs/2006ApJ...646..505B</td>\n",
              "      <td>15.1619</td>\n",
              "      <td>0.974724</td>\n",
              "      <td>0.974724</td>\n",
              "      <td>0.974724</td>\n",
              "      <td>...</td>\n",
              "      <td>NaN</td>\n",
              "      <td>NaN</td>\n",
              "      <td>NaN</td>\n",
              "      <td>NaN</td>\n",
              "      <td>NaN</td>\n",
              "      <td>NaN</td>\n",
              "      <td>Morton 2016</td>\n",
              "      <td>http://adsabs.harvard.edu/abs/2016ApJ...822...86M</td>\n",
              "      <td>NaN</td>\n",
              "      <td>1</td>\n",
              "    </tr>\n",
              "    <tr>\n",
              "      <th>2</th>\n",
              "      <td>0.137610</td>\n",
              "      <td>0.002897</td>\n",
              "      <td>0.002897</td>\n",
              "      <td>0.002897</td>\n",
              "      <td>Calculated</td>\n",
              "      <td>http://adsabs.harvard.edu/abs/2006ApJ...646..505B</td>\n",
              "      <td>31.8896</td>\n",
              "      <td>3.494090</td>\n",
              "      <td>3.494090</td>\n",
              "      <td>3.494090</td>\n",
              "      <td>...</td>\n",
              "      <td>NaN</td>\n",
              "      <td>NaN</td>\n",
              "      <td>NaN</td>\n",
              "      <td>NaN</td>\n",
              "      <td>NaN</td>\n",
              "      <td>NaN</td>\n",
              "      <td>Morton 2016</td>\n",
              "      <td>http://adsabs.harvard.edu/abs/2016ApJ...822...86M</td>\n",
              "      <td>NaN</td>\n",
              "      <td>1</td>\n",
              "    </tr>\n",
              "    <tr>\n",
              "      <th>3</th>\n",
              "      <td>0.091351</td>\n",
              "      <td>0.001903</td>\n",
              "      <td>0.001903</td>\n",
              "      <td>0.001903</td>\n",
              "      <td>Calculated</td>\n",
              "      <td>http://adsabs.harvard.edu/abs/2006ApJ...646..505B</td>\n",
              "      <td>14.5835</td>\n",
              "      <td>2.181770</td>\n",
              "      <td>2.181770</td>\n",
              "      <td>2.181770</td>\n",
              "      <td>...</td>\n",
              "      <td>NaN</td>\n",
              "      <td>NaN</td>\n",
              "      <td>3.0</td>\n",
              "      <td>1.0</td>\n",
              "      <td>1.0</td>\n",
              "      <td>1.0</td>\n",
              "      <td>Hebrard 2014</td>\n",
              "      <td>http://adsabs.harvard.edu/abs/2014A%26A...572A...</td>\n",
              "      <td>NaN</td>\n",
              "      <td>1</td>\n",
              "    </tr>\n",
              "    <tr>\n",
              "      <th>4</th>\n",
              "      <td>0.185149</td>\n",
              "      <td>0.008817</td>\n",
              "      <td>0.008817</td>\n",
              "      <td>0.008817</td>\n",
              "      <td>Calculated</td>\n",
              "      <td>http://adsabs.harvard.edu/abs/2006ApJ...646..505B</td>\n",
              "      <td>33.2523</td>\n",
              "      <td>10.100600</td>\n",
              "      <td>10.100600</td>\n",
              "      <td>10.100600</td>\n",
              "      <td>...</td>\n",
              "      <td>NaN</td>\n",
              "      <td>NaN</td>\n",
              "      <td>NaN</td>\n",
              "      <td>NaN</td>\n",
              "      <td>NaN</td>\n",
              "      <td>NaN</td>\n",
              "      <td>Morton 2016</td>\n",
              "      <td>http://adsabs.harvard.edu/abs/2016ApJ...822...86M</td>\n",
              "      <td>NaN</td>\n",
              "      <td>1</td>\n",
              "    </tr>\n",
              "  </tbody>\n",
              "</table>\n",
              "<p>5 rows × 314 columns</p>\n",
              "</div>\n",
              "      <button class=\"colab-df-convert\" onclick=\"convertToInteractive('df-f8a80ab4-9f21-4517-8c43-21cfba88670d')\"\n",
              "              title=\"Convert this dataframe to an interactive table.\"\n",
              "              style=\"display:none;\">\n",
              "        \n",
              "  <svg xmlns=\"http://www.w3.org/2000/svg\" height=\"24px\"viewBox=\"0 0 24 24\"\n",
              "       width=\"24px\">\n",
              "    <path d=\"M0 0h24v24H0V0z\" fill=\"none\"/>\n",
              "    <path d=\"M18.56 5.44l.94 2.06.94-2.06 2.06-.94-2.06-.94-.94-2.06-.94 2.06-2.06.94zm-11 1L8.5 8.5l.94-2.06 2.06-.94-2.06-.94L8.5 2.5l-.94 2.06-2.06.94zm10 10l.94 2.06.94-2.06 2.06-.94-2.06-.94-.94-2.06-.94 2.06-2.06.94z\"/><path d=\"M17.41 7.96l-1.37-1.37c-.4-.4-.92-.59-1.43-.59-.52 0-1.04.2-1.43.59L10.3 9.45l-7.72 7.72c-.78.78-.78 2.05 0 2.83L4 21.41c.39.39.9.59 1.41.59.51 0 1.02-.2 1.41-.59l7.78-7.78 2.81-2.81c.8-.78.8-2.07 0-2.86zM5.41 20L4 18.59l7.72-7.72 1.47 1.35L5.41 20z\"/>\n",
              "  </svg>\n",
              "      </button>\n",
              "      \n",
              "  <style>\n",
              "    .colab-df-container {\n",
              "      display:flex;\n",
              "      flex-wrap:wrap;\n",
              "      gap: 12px;\n",
              "    }\n",
              "\n",
              "    .colab-df-convert {\n",
              "      background-color: #E8F0FE;\n",
              "      border: none;\n",
              "      border-radius: 50%;\n",
              "      cursor: pointer;\n",
              "      display: none;\n",
              "      fill: #1967D2;\n",
              "      height: 32px;\n",
              "      padding: 0 0 0 0;\n",
              "      width: 32px;\n",
              "    }\n",
              "\n",
              "    .colab-df-convert:hover {\n",
              "      background-color: #E2EBFA;\n",
              "      box-shadow: 0px 1px 2px rgba(60, 64, 67, 0.3), 0px 1px 3px 1px rgba(60, 64, 67, 0.15);\n",
              "      fill: #174EA6;\n",
              "    }\n",
              "\n",
              "    [theme=dark] .colab-df-convert {\n",
              "      background-color: #3B4455;\n",
              "      fill: #D2E3FC;\n",
              "    }\n",
              "\n",
              "    [theme=dark] .colab-df-convert:hover {\n",
              "      background-color: #434B5C;\n",
              "      box-shadow: 0px 1px 3px 1px rgba(0, 0, 0, 0.15);\n",
              "      filter: drop-shadow(0px 1px 2px rgba(0, 0, 0, 0.3));\n",
              "      fill: #FFFFFF;\n",
              "    }\n",
              "  </style>\n",
              "\n",
              "      <script>\n",
              "        const buttonEl =\n",
              "          document.querySelector('#df-f8a80ab4-9f21-4517-8c43-21cfba88670d button.colab-df-convert');\n",
              "        buttonEl.style.display =\n",
              "          google.colab.kernel.accessAllowed ? 'block' : 'none';\n",
              "\n",
              "        async function convertToInteractive(key) {\n",
              "          const element = document.querySelector('#df-f8a80ab4-9f21-4517-8c43-21cfba88670d');\n",
              "          const dataTable =\n",
              "            await google.colab.kernel.invokeFunction('convertToInteractive',\n",
              "                                                     [key], {});\n",
              "          if (!dataTable) return;\n",
              "\n",
              "          const docLinkHtml = 'Like what you see? Visit the ' +\n",
              "            '<a target=\"_blank\" href=https://colab.research.google.com/notebooks/data_table.ipynb>data table notebook</a>'\n",
              "            + ' to learn more about interactive tables.';\n",
              "          element.innerHTML = '';\n",
              "          dataTable['output_type'] = 'display_data';\n",
              "          await google.colab.output.renderOutput(dataTable, element);\n",
              "          const docLink = document.createElement('div');\n",
              "          docLink.innerHTML = docLinkHtml;\n",
              "          element.appendChild(docLink);\n",
              "        }\n",
              "      </script>\n",
              "    </div>\n",
              "  </div>\n",
              "  "
            ]
          },
          "metadata": {},
          "execution_count": 10
        }
      ]
    },
    {
      "cell_type": "code",
      "source": [
        "dfK2.shape"
      ],
      "metadata": {
        "colab": {
          "base_uri": "https://localhost:8080/"
        },
        "id": "Apbzyk_YfeC6",
        "outputId": "d002d6ab-4a56-4b49-fb60-7f73eb900309"
      },
      "execution_count": null,
      "outputs": [
        {
          "output_type": "execute_result",
          "data": {
            "text/plain": [
              "(5747, 314)"
            ]
          },
          "metadata": {},
          "execution_count": 12
        }
      ]
    },
    {
      "cell_type": "code",
      "source": [],
      "metadata": {
        "id": "FPUPFd5vgdxN"
      },
      "execution_count": null,
      "outputs": []
    }
  ]
}